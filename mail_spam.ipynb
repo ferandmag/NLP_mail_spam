{
  "cells": [
    {
      "cell_type": "code",
      "execution_count": 141,
      "id": "ce0dd679",
      "metadata": {
        "id": "ce0dd679"
      },
      "outputs": [],
      "source": [
        "# basics\n",
        "import pandas as pd\n",
        "import numpy as np\n",
        "import seaborn as sns\n",
        "import matplotlib.pyplot as plt\n",
        "\n",
        "# model selection\n",
        "from sklearn.model_selection import train_test_split, StratifiedKFold, GridSearchCV, RandomizedSearchCV\n",
        "\n",
        "# classifier\n",
        "from sklearn.ensemble import RandomForestClassifier\n",
        "from sklearn.neural_network import MLPClassifier\n",
        "\n",
        "# metrics\n",
        "from sklearn.metrics import  classification_report, confusion_matrix, ConfusionMatrixDisplay\n",
        "\n",
        "# text\n",
        "import spacy\n",
        "from bs4 import BeautifulSoup\n",
        "from sklearn.feature_extraction.text import TfidfVectorizer\n",
        "import re"
      ]
    },
    {
      "cell_type": "code",
      "execution_count": 142,
      "id": "181eafdc",
      "metadata": {
        "colab": {
          "base_uri": "https://localhost:8080/",
          "height": 206
        },
        "id": "181eafdc",
        "outputId": "6d2a549b-b07d-4822-c93c-1a35368410de"
      },
      "outputs": [
        {
          "data": {
            "text/html": [
              "<div>\n",
              "<style scoped>\n",
              "    .dataframe tbody tr th:only-of-type {\n",
              "        vertical-align: middle;\n",
              "    }\n",
              "\n",
              "    .dataframe tbody tr th {\n",
              "        vertical-align: top;\n",
              "    }\n",
              "\n",
              "    .dataframe thead th {\n",
              "        text-align: right;\n",
              "    }\n",
              "</style>\n",
              "<table border=\"1\" class=\"dataframe\">\n",
              "  <thead>\n",
              "    <tr style=\"text-align: right;\">\n",
              "      <th></th>\n",
              "      <th>CATEGORY</th>\n",
              "      <th>MESSAGE</th>\n",
              "      <th>FILE_NAME</th>\n",
              "    </tr>\n",
              "  </thead>\n",
              "  <tbody>\n",
              "    <tr>\n",
              "      <th>0</th>\n",
              "      <td>1</td>\n",
              "      <td>Dear Homeowner,\\n\\n \\n\\nInterest Rates are at their lowest point in 40 years!\\n\\n\\n\\nWe help you find the best rate for your situation by\\n\\nmatching your needs with hundreds of lenders!\\n\\n\\n\\nHome Improvement, Refinance, Second Mortgage,\\n\\nHome Equity Loans, and More! Even with less than\\n\\nperfect credit!\\n\\n\\n\\nThis service is 100% FREE to home owners and new\\n\\nhome buyers without any obligation. \\n\\n\\n\\nJust fill out a quick, simple form and jump-start\\n\\nyour future plans today!\\n\\n\\n\\n\\n\\nVisit http://61.145.116.186/user0201/index.asp?Afft=QM10\\n\\n\\n\\n\\n\\n\\n\\n\\n\\n\\n\\n\\n\\nTo unsubscribe, please visit:\\n\\n\\n\\nhttp://61.145.116.186/light/watch.asp\\n\\n\\n\\n\\n</td>\n",
              "      <td>00249.5f45607c1bffe89f60ba1ec9f878039a</td>\n",
              "    </tr>\n",
              "    <tr>\n",
              "      <th>1</th>\n",
              "      <td>1</td>\n",
              "      <td>ATTENTION: This is a MUST for ALL Computer Users!!!\\n\\n\\n\\n*NEW-Special Package Deal!*\\n\\n\\n\\nNorton SystemWorks 2002 Software Suite -Professional Edition-\\n\\n\\n\\nIncludes Six - Yes 6! - Feature-Packed Utilities\\n\\nALL For 1 Special LOW Price!\\n\\n\\n\\nThis Software Will:\\n\\n- Protect your computer from unwanted and hazardous viruses\\n\\n- Help secure your private &amp; valuable information\\n\\n- Allow you to transfer files and send e-mails safely\\n\\n- Backup your ALL your data quick and easily\\n\\n- Improve your PC's performance w/superior integral diagnostics!\\n\\n\\n\\n6 Feature-Packed Utilities...1 Great Price!\\n\\nA $300+ Combined Retail Value!\\n\\n\\n\\nYOURS for Only $29.99!  &lt;Includes FREE Shipping!&gt;\\n\\n\\n\\nDon't fall prey to destructive viruses or hackers!\\n\\nProtect  your computer and your valuable information!\\n\\n\\n\\n\\n\\nSo don't delay...get your copy TODAY!\\n\\n\\n\\n\\n\\nhttp://euro.specialdiscounts4u.com/\\n\\n++++++++++++++++++++++++++++++++++++++++++++++++++++++++++++++++++++++++++++\\n\\nThis email has been screened and filtered by our in house \"\"OPT-OUT\"\" system in \\n\\ncompliance with state laws. If you wish to \"OPT-OUT\" from this mailing as well \\n\\nas the lists of thousands  of other email providers please visit  \\n\\n\\n\\nhttp://dvd.specialdiscounts4u.com/optoutd.html\\n\\n++++++++++++++++++++++++++++++++++++++++++++++++++++++++++++++++++++++++++++\\n\\n\\n\\n\\n</td>\n",
              "      <td>00373.ebe8670ac56b04125c25100a36ab0510</td>\n",
              "    </tr>\n",
              "  </tbody>\n",
              "</table>\n",
              "</div>"
            ],
            "text/plain": [
              "   CATEGORY  \\\n",
              "0         1   \n",
              "1         1   \n",
              "\n",
              "                                                                                                                                                                                                                                                                                                                                                                                                                                                                                                                                                                                                                                                                                                                                                                                                                                                                                                                                                                                                                                                                                                                                                                                                                                                                                                                                                                                                                         MESSAGE  \\\n",
              "0                                                                                                                                                                                                                                                                                                                                                                                                                                                                                                                                                                                                                                                                                                                                Dear Homeowner,\\n\\n \\n\\nInterest Rates are at their lowest point in 40 years!\\n\\n\\n\\nWe help you find the best rate for your situation by\\n\\nmatching your needs with hundreds of lenders!\\n\\n\\n\\nHome Improvement, Refinance, Second Mortgage,\\n\\nHome Equity Loans, and More! Even with less than\\n\\nperfect credit!\\n\\n\\n\\nThis service is 100% FREE to home owners and new\\n\\nhome buyers without any obligation. \\n\\n\\n\\nJust fill out a quick, simple form and jump-start\\n\\nyour future plans today!\\n\\n\\n\\n\\n\\nVisit http://61.145.116.186/user0201/index.asp?Afft=QM10\\n\\n\\n\\n\\n\\n\\n\\n\\n\\n\\n\\n\\n\\nTo unsubscribe, please visit:\\n\\n\\n\\nhttp://61.145.116.186/light/watch.asp\\n\\n\\n\\n\\n   \n",
              "1  ATTENTION: This is a MUST for ALL Computer Users!!!\\n\\n\\n\\n*NEW-Special Package Deal!*\\n\\n\\n\\nNorton SystemWorks 2002 Software Suite -Professional Edition-\\n\\n\\n\\nIncludes Six - Yes 6! - Feature-Packed Utilities\\n\\nALL For 1 Special LOW Price!\\n\\n\\n\\nThis Software Will:\\n\\n- Protect your computer from unwanted and hazardous viruses\\n\\n- Help secure your private & valuable information\\n\\n- Allow you to transfer files and send e-mails safely\\n\\n- Backup your ALL your data quick and easily\\n\\n- Improve your PC's performance w/superior integral diagnostics!\\n\\n\\n\\n6 Feature-Packed Utilities...1 Great Price!\\n\\nA $300+ Combined Retail Value!\\n\\n\\n\\nYOURS for Only $29.99!  <Includes FREE Shipping!>\\n\\n\\n\\nDon't fall prey to destructive viruses or hackers!\\n\\nProtect  your computer and your valuable information!\\n\\n\\n\\n\\n\\nSo don't delay...get your copy TODAY!\\n\\n\\n\\n\\n\\nhttp://euro.specialdiscounts4u.com/\\n\\n++++++++++++++++++++++++++++++++++++++++++++++++++++++++++++++++++++++++++++\\n\\nThis email has been screened and filtered by our in house \"\"OPT-OUT\"\" system in \\n\\ncompliance with state laws. If you wish to \"OPT-OUT\" from this mailing as well \\n\\nas the lists of thousands  of other email providers please visit  \\n\\n\\n\\nhttp://dvd.specialdiscounts4u.com/optoutd.html\\n\\n++++++++++++++++++++++++++++++++++++++++++++++++++++++++++++++++++++++++++++\\n\\n\\n\\n\\n   \n",
              "\n",
              "                                FILE_NAME  \n",
              "0  00249.5f45607c1bffe89f60ba1ec9f878039a  \n",
              "1  00373.ebe8670ac56b04125c25100a36ab0510  "
            ]
          },
          "execution_count": 142,
          "metadata": {},
          "output_type": "execute_result"
        }
      ],
      "source": [
        "pd.set_option(\"display.max_colwidth\", None)\n",
        "\n",
        "# load dataset\n",
        "df = pd.read_csv('spam.csv')\n",
        "df.head(2)"
      ]
    },
    {
      "cell_type": "code",
      "execution_count": 143,
      "id": "f2dfdd26",
      "metadata": {
        "colab": {
          "base_uri": "https://localhost:8080/"
        },
        "id": "f2dfdd26",
        "outputId": "b2a77681-4122-4259-ebc2-c78fd449b634"
      },
      "outputs": [
        {
          "data": {
            "text/plain": [
              "(5796, 2)"
            ]
          },
          "execution_count": 143,
          "metadata": {},
          "output_type": "execute_result"
        }
      ],
      "source": [
        "# drop file_name feature\n",
        "df.drop('FILE_NAME', axis=1, inplace=True)\n",
        "df.shape"
      ]
    },
    {
      "cell_type": "code",
      "execution_count": 144,
      "id": "759aea24",
      "metadata": {
        "colab": {
          "base_uri": "https://localhost:8080/"
        },
        "id": "759aea24",
        "outputId": "a9c410e0-e3ec-4133-8900-b237248924fa"
      },
      "outputs": [
        {
          "name": "stdout",
          "output_type": "stream",
          "text": [
            "CATEGORY     0\n",
            "MESSAGE     19\n",
            "dtype: int64\n"
          ]
        }
      ],
      "source": [
        "# na values\n",
        "print(df.isna().sum())"
      ]
    },
    {
      "cell_type": "code",
      "execution_count": 145,
      "id": "SqrdYytgiMnZ",
      "metadata": {
        "id": "SqrdYytgiMnZ"
      },
      "outputs": [
        {
          "name": "stdout",
          "output_type": "stream",
          "text": [
            "CATEGORY    0\n",
            "MESSAGE     0\n",
            "dtype: int64\n"
          ]
        }
      ],
      "source": [
        "# dropna\n",
        "df.dropna(inplace=True)\n",
        "\n",
        "# final check\n",
        "print(df.isna().sum())"
      ]
    },
    {
      "cell_type": "markdown",
      "id": "af25b67a",
      "metadata": {
        "id": "af25b67a"
      },
      "source": [
        "### preprocessing"
      ]
    },
    {
      "cell_type": "code",
      "execution_count": 146,
      "id": "Nvf0mOE5iowh",
      "metadata": {
        "colab": {
          "base_uri": "https://localhost:8080/",
          "height": 206
        },
        "id": "Nvf0mOE5iowh",
        "outputId": "38641f24-5e9e-43d0-a058-ba00a1065cc0"
      },
      "outputs": [
        {
          "data": {
            "text/html": [
              "<div>\n",
              "<style scoped>\n",
              "    .dataframe tbody tr th:only-of-type {\n",
              "        vertical-align: middle;\n",
              "    }\n",
              "\n",
              "    .dataframe tbody tr th {\n",
              "        vertical-align: top;\n",
              "    }\n",
              "\n",
              "    .dataframe thead th {\n",
              "        text-align: right;\n",
              "    }\n",
              "</style>\n",
              "<table border=\"1\" class=\"dataframe\">\n",
              "  <thead>\n",
              "    <tr style=\"text-align: right;\">\n",
              "      <th></th>\n",
              "      <th>CATEGORY</th>\n",
              "      <th>MESSAGE</th>\n",
              "    </tr>\n",
              "  </thead>\n",
              "  <tbody>\n",
              "    <tr>\n",
              "      <th>0</th>\n",
              "      <td>1</td>\n",
              "      <td>Dear Homeowner,\\n\\n \\n\\nInterest Rates are at their lowest point in 40 years!\\n\\n\\n\\nWe help you find the best rate for your situation by\\n\\nmatching your needs with hundreds of lenders!\\n\\n\\n\\nHome Improvement, Refinance, Second Mortgage,\\n\\nHome Equity Loans, and More! Even with less than\\n\\nperfect credit!\\n\\n\\n\\nThis service is 100% FREE to home owners and new\\n\\nhome buyers without any obligation. \\n\\n\\n\\nJust fill out a quick, simple form and jump-start\\n\\nyour future plans today!\\n\\n\\n\\n\\n\\nVisit http://61.145.116.186/user0201/index.asp?Afft=QM10\\n\\n\\n\\n\\n\\n\\n\\n\\n\\n\\n\\n\\n\\nTo unsubscribe, please visit:\\n\\n\\n\\nhttp://61.145.116.186/light/watch.asp\\n\\n\\n\\n\\n</td>\n",
              "    </tr>\n",
              "    <tr>\n",
              "      <th>1</th>\n",
              "      <td>1</td>\n",
              "      <td>ATTENTION: This is a MUST for ALL Computer Users!!!\\n\\n\\n\\n*NEW-Special Package Deal!*\\n\\n\\n\\nNorton SystemWorks 2002 Software Suite -Professional Edition-\\n\\n\\n\\nIncludes Six - Yes 6! - Feature-Packed Utilities\\n\\nALL For 1 Special LOW Price!\\n\\n\\n\\nThis Software Will:\\n\\n- Protect your computer from unwanted and hazardous viruses\\n\\n- Help secure your private &amp; valuable information\\n\\n- Allow you to transfer files and send e-mails safely\\n\\n- Backup your ALL your data quick and easily\\n\\n- Improve your PC's performance w/superior integral diagnostics!\\n\\n\\n\\n6 Feature-Packed Utilities...1 Great Price!\\n\\nA $300+ Combined Retail Value!\\n\\n\\n\\nYOURS for Only $29.99!  &lt;Includes FREE Shipping!&gt;\\n\\n\\n\\nDon't fall prey to destructive viruses or hackers!\\n\\nProtect  your computer and your valuable information!\\n\\n\\n\\n\\n\\nSo don't delay...get your copy TODAY!\\n\\n\\n\\n\\n\\nhttp://euro.specialdiscounts4u.com/\\n\\n++++++++++++++++++++++++++++++++++++++++++++++++++++++++++++++++++++++++++++\\n\\nThis email has been screened and filtered by our in house \"\"OPT-OUT\"\" system in \\n\\ncompliance with state laws. If you wish to \"OPT-OUT\" from this mailing as well \\n\\nas the lists of thousands  of other email providers please visit  \\n\\n\\n\\nhttp://dvd.specialdiscounts4u.com/optoutd.html\\n\\n++++++++++++++++++++++++++++++++++++++++++++++++++++++++++++++++++++++++++++\\n\\n\\n\\n\\n</td>\n",
              "    </tr>\n",
              "  </tbody>\n",
              "</table>\n",
              "</div>"
            ],
            "text/plain": [
              "   CATEGORY  \\\n",
              "0         1   \n",
              "1         1   \n",
              "\n",
              "                                                                                                                                                                                                                                                                                                                                                                                                                                                                                                                                                                                                                                                                                                                                                                                                                                                                                                                                                                                                                                                                                                                                                                                                                                                                                                                                                                                                                         MESSAGE  \n",
              "0                                                                                                                                                                                                                                                                                                                                                                                                                                                                                                                                                                                                                                                                                                                                Dear Homeowner,\\n\\n \\n\\nInterest Rates are at their lowest point in 40 years!\\n\\n\\n\\nWe help you find the best rate for your situation by\\n\\nmatching your needs with hundreds of lenders!\\n\\n\\n\\nHome Improvement, Refinance, Second Mortgage,\\n\\nHome Equity Loans, and More! Even with less than\\n\\nperfect credit!\\n\\n\\n\\nThis service is 100% FREE to home owners and new\\n\\nhome buyers without any obligation. \\n\\n\\n\\nJust fill out a quick, simple form and jump-start\\n\\nyour future plans today!\\n\\n\\n\\n\\n\\nVisit http://61.145.116.186/user0201/index.asp?Afft=QM10\\n\\n\\n\\n\\n\\n\\n\\n\\n\\n\\n\\n\\n\\nTo unsubscribe, please visit:\\n\\n\\n\\nhttp://61.145.116.186/light/watch.asp\\n\\n\\n\\n\\n  \n",
              "1  ATTENTION: This is a MUST for ALL Computer Users!!!\\n\\n\\n\\n*NEW-Special Package Deal!*\\n\\n\\n\\nNorton SystemWorks 2002 Software Suite -Professional Edition-\\n\\n\\n\\nIncludes Six - Yes 6! - Feature-Packed Utilities\\n\\nALL For 1 Special LOW Price!\\n\\n\\n\\nThis Software Will:\\n\\n- Protect your computer from unwanted and hazardous viruses\\n\\n- Help secure your private & valuable information\\n\\n- Allow you to transfer files and send e-mails safely\\n\\n- Backup your ALL your data quick and easily\\n\\n- Improve your PC's performance w/superior integral diagnostics!\\n\\n\\n\\n6 Feature-Packed Utilities...1 Great Price!\\n\\nA $300+ Combined Retail Value!\\n\\n\\n\\nYOURS for Only $29.99!  <Includes FREE Shipping!>\\n\\n\\n\\nDon't fall prey to destructive viruses or hackers!\\n\\nProtect  your computer and your valuable information!\\n\\n\\n\\n\\n\\nSo don't delay...get your copy TODAY!\\n\\n\\n\\n\\n\\nhttp://euro.specialdiscounts4u.com/\\n\\n++++++++++++++++++++++++++++++++++++++++++++++++++++++++++++++++++++++++++++\\n\\nThis email has been screened and filtered by our in house \"\"OPT-OUT\"\" system in \\n\\ncompliance with state laws. If you wish to \"OPT-OUT\" from this mailing as well \\n\\nas the lists of thousands  of other email providers please visit  \\n\\n\\n\\nhttp://dvd.specialdiscounts4u.com/optoutd.html\\n\\n++++++++++++++++++++++++++++++++++++++++++++++++++++++++++++++++++++++++++++\\n\\n\\n\\n\\n  "
            ]
          },
          "execution_count": 146,
          "metadata": {},
          "output_type": "execute_result"
        }
      ],
      "source": [
        "df.head(2)"
      ]
    },
    {
      "cell_type": "code",
      "execution_count": 148,
      "id": "404383b8",
      "metadata": {
        "id": "404383b8"
      },
      "outputs": [
        {
          "name": "stderr",
          "output_type": "stream",
          "text": [
            "c:\\Users\\fer\\AppData\\Local\\Programs\\Python\\Python310\\lib\\site-packages\\bs4\\__init__.py:435: MarkupResemblesLocatorWarning: The input looks more like a filename than markup. You may want to open this file and pass the filehandle into Beautiful Soup.\n",
            "  warnings.warn(\n",
            "c:\\Users\\fer\\AppData\\Local\\Programs\\Python\\Python310\\lib\\site-packages\\bs4\\__init__.py:404: MarkupResemblesLocatorWarning: The input looks more like a URL than markup. You may want to use an HTTP client like requests to get the document behind the URL, and feed that document to Beautiful Soup.\n",
            "  warnings.warn(\n"
          ]
        },
        {
          "data": {
            "text/html": [
              "<div>\n",
              "<style scoped>\n",
              "    .dataframe tbody tr th:only-of-type {\n",
              "        vertical-align: middle;\n",
              "    }\n",
              "\n",
              "    .dataframe tbody tr th {\n",
              "        vertical-align: top;\n",
              "    }\n",
              "\n",
              "    .dataframe thead th {\n",
              "        text-align: right;\n",
              "    }\n",
              "</style>\n",
              "<table border=\"1\" class=\"dataframe\">\n",
              "  <thead>\n",
              "    <tr style=\"text-align: right;\">\n",
              "      <th></th>\n",
              "      <th>CATEGORY</th>\n",
              "      <th>MESSAGE</th>\n",
              "      <th>MESSAGE_CLEAN</th>\n",
              "    </tr>\n",
              "  </thead>\n",
              "  <tbody>\n",
              "    <tr>\n",
              "      <th>0</th>\n",
              "      <td>1</td>\n",
              "      <td>Dear Homeowner,\\n\\n \\n\\nInterest Rates are at their lowest point in 40 years!\\n\\n\\n\\nWe help you find the best rate for your situation by\\n\\nmatching your needs with hundreds of lenders!\\n\\n\\n\\nHome Improvement, Refinance, Second Mortgage,\\n\\nHome Equity Loans, and More! Even with less than\\n\\nperfect credit!\\n\\n\\n\\nThis service is 100% FREE to home owners and new\\n\\nhome buyers without any obligation. \\n\\n\\n\\nJust fill out a quick, simple form and jump-start\\n\\nyour future plans today!\\n\\n\\n\\n\\n\\nVisit http://61.145.116.186/user0201/index.asp?Afft=QM10\\n\\n\\n\\n\\n\\n\\n\\n\\n\\n\\n\\n\\n\\nTo unsubscribe, please visit:\\n\\n\\n\\nhttp://61.145.116.186/light/watch.asp\\n\\n\\n\\n\\n</td>\n",
              "      <td>Dear Homeowner,\\n\\n \\n\\nInterest Rates are at their lowest point in 40 years!\\n\\n\\n\\nWe help you find the best rate for your situation by\\n\\nmatching your needs with hundreds of lenders!\\n\\n\\n\\nHome Improvement, Refinance, Second Mortgage,\\n\\nHome Equity Loans, and More! Even with less than\\n\\nperfect credit!\\n\\n\\n\\nThis service is 100% FREE to home owners and new\\n\\nhome buyers without any obligation. \\n\\n\\n\\nJust fill out a quick, simple form and jump-start\\n\\nyour future plans today!\\n\\n\\n\\n\\n\\nVisit http://61.145.116.186/user0201/index.asp?Afft=QM10\\n\\n\\n\\n\\n\\n\\n\\n\\n\\n\\n\\n\\n\\nTo unsubscribe, please visit:\\n\\n\\n\\nhttp://61.145.116.186/light/watch.asp\\n\\n\\n\\n\\n</td>\n",
              "    </tr>\n",
              "    <tr>\n",
              "      <th>1</th>\n",
              "      <td>1</td>\n",
              "      <td>ATTENTION: This is a MUST for ALL Computer Users!!!\\n\\n\\n\\n*NEW-Special Package Deal!*\\n\\n\\n\\nNorton SystemWorks 2002 Software Suite -Professional Edition-\\n\\n\\n\\nIncludes Six - Yes 6! - Feature-Packed Utilities\\n\\nALL For 1 Special LOW Price!\\n\\n\\n\\nThis Software Will:\\n\\n- Protect your computer from unwanted and hazardous viruses\\n\\n- Help secure your private &amp; valuable information\\n\\n- Allow you to transfer files and send e-mails safely\\n\\n- Backup your ALL your data quick and easily\\n\\n- Improve your PC's performance w/superior integral diagnostics!\\n\\n\\n\\n6 Feature-Packed Utilities...1 Great Price!\\n\\nA $300+ Combined Retail Value!\\n\\n\\n\\nYOURS for Only $29.99!  &lt;Includes FREE Shipping!&gt;\\n\\n\\n\\nDon't fall prey to destructive viruses or hackers!\\n\\nProtect  your computer and your valuable information!\\n\\n\\n\\n\\n\\nSo don't delay...get your copy TODAY!\\n\\n\\n\\n\\n\\nhttp://euro.specialdiscounts4u.com/\\n\\n++++++++++++++++++++++++++++++++++++++++++++++++++++++++++++++++++++++++++++\\n\\nThis email has been screened and filtered by our in house \"\"OPT-OUT\"\" system in \\n\\ncompliance with state laws. If you wish to \"OPT-OUT\" from this mailing as well \\n\\nas the lists of thousands  of other email providers please visit  \\n\\n\\n\\nhttp://dvd.specialdiscounts4u.com/optoutd.html\\n\\n++++++++++++++++++++++++++++++++++++++++++++++++++++++++++++++++++++++++++++\\n\\n\\n\\n\\n</td>\n",
              "      <td>ATTENTION: This is a MUST for ALL Computer Users!!!\\n\\n\\n\\n*NEW-Special Package Deal!*\\n\\n\\n\\nNorton SystemWorks 2002 Software Suite -Professional Edition-\\n\\n\\n\\nIncludes Six - Yes 6! - Feature-Packed Utilities\\n\\nALL For 1 Special LOW Price!\\n\\n\\n\\nThis Software Will:\\n\\n- Protect your computer from unwanted and hazardous viruses\\n\\n- Help secure your private &amp; valuable information\\n\\n- Allow you to transfer files and send e-mails safely\\n\\n- Backup your ALL your data quick and easily\\n\\n- Improve your PC's performance w/superior integral diagnostics!\\n\\n\\n\\n6 Feature-Packed Utilities...1 Great Price!\\n\\nA $300+ Combined Retail Value!\\n\\n\\n\\nYOURS for Only $29.99!  \\n\\n\\n\\nDon't fall prey to destructive viruses or hackers!\\n\\nProtect  your computer and your valuable information!\\n\\n\\n\\n\\n\\nSo don't delay...get your copy TODAY!\\n\\n\\n\\n\\n\\nhttp://euro.specialdiscounts4u.com/\\n\\n++++++++++++++++++++++++++++++++++++++++++++++++++++++++++++++++++++++++++++\\n\\nThis email has been screened and filtered by our in house \"\"OPT-OUT\"\" system in \\n\\ncompliance with state laws. If you wish to \"OPT-OUT\" from this mailing as well \\n\\nas the lists of thousands  of other email providers please visit  \\n\\n\\n\\nhttp://dvd.specialdiscounts4u.com/optoutd.html\\n\\n++++++++++++++++++++++++++++++++++++++++++++++++++++++++++++++++++++++++++++\\n\\n\\n\\n\\n</td>\n",
              "    </tr>\n",
              "  </tbody>\n",
              "</table>\n",
              "</div>"
            ],
            "text/plain": [
              "   CATEGORY  \\\n",
              "0         1   \n",
              "1         1   \n",
              "\n",
              "                                                                                                                                                                                                                                                                                                                                                                                                                                                                                                                                                                                                                                                                                                                                                                                                                                                                                                                                                                                                                                                                                                                                                                                                                                                                                                                                                                                                                         MESSAGE  \\\n",
              "0                                                                                                                                                                                                                                                                                                                                                                                                                                                                                                                                                                                                                                                                                                                                Dear Homeowner,\\n\\n \\n\\nInterest Rates are at their lowest point in 40 years!\\n\\n\\n\\nWe help you find the best rate for your situation by\\n\\nmatching your needs with hundreds of lenders!\\n\\n\\n\\nHome Improvement, Refinance, Second Mortgage,\\n\\nHome Equity Loans, and More! Even with less than\\n\\nperfect credit!\\n\\n\\n\\nThis service is 100% FREE to home owners and new\\n\\nhome buyers without any obligation. \\n\\n\\n\\nJust fill out a quick, simple form and jump-start\\n\\nyour future plans today!\\n\\n\\n\\n\\n\\nVisit http://61.145.116.186/user0201/index.asp?Afft=QM10\\n\\n\\n\\n\\n\\n\\n\\n\\n\\n\\n\\n\\n\\nTo unsubscribe, please visit:\\n\\n\\n\\nhttp://61.145.116.186/light/watch.asp\\n\\n\\n\\n\\n   \n",
              "1  ATTENTION: This is a MUST for ALL Computer Users!!!\\n\\n\\n\\n*NEW-Special Package Deal!*\\n\\n\\n\\nNorton SystemWorks 2002 Software Suite -Professional Edition-\\n\\n\\n\\nIncludes Six - Yes 6! - Feature-Packed Utilities\\n\\nALL For 1 Special LOW Price!\\n\\n\\n\\nThis Software Will:\\n\\n- Protect your computer from unwanted and hazardous viruses\\n\\n- Help secure your private & valuable information\\n\\n- Allow you to transfer files and send e-mails safely\\n\\n- Backup your ALL your data quick and easily\\n\\n- Improve your PC's performance w/superior integral diagnostics!\\n\\n\\n\\n6 Feature-Packed Utilities...1 Great Price!\\n\\nA $300+ Combined Retail Value!\\n\\n\\n\\nYOURS for Only $29.99!  <Includes FREE Shipping!>\\n\\n\\n\\nDon't fall prey to destructive viruses or hackers!\\n\\nProtect  your computer and your valuable information!\\n\\n\\n\\n\\n\\nSo don't delay...get your copy TODAY!\\n\\n\\n\\n\\n\\nhttp://euro.specialdiscounts4u.com/\\n\\n++++++++++++++++++++++++++++++++++++++++++++++++++++++++++++++++++++++++++++\\n\\nThis email has been screened and filtered by our in house \"\"OPT-OUT\"\" system in \\n\\ncompliance with state laws. If you wish to \"OPT-OUT\" from this mailing as well \\n\\nas the lists of thousands  of other email providers please visit  \\n\\n\\n\\nhttp://dvd.specialdiscounts4u.com/optoutd.html\\n\\n++++++++++++++++++++++++++++++++++++++++++++++++++++++++++++++++++++++++++++\\n\\n\\n\\n\\n   \n",
              "\n",
              "                                                                                                                                                                                                                                                                                                                                                                                                                                                                                                                                                                                                                                                                                                                                                                                                                                                                                                                                                                                                                                                                                                                                                                                                                                                                                                                                                                                          MESSAGE_CLEAN  \n",
              "0                                                                                                                                                                                                                                                                                                                                                                                                                                                                                                                                                                                                                                                                                                       Dear Homeowner,\\n\\n \\n\\nInterest Rates are at their lowest point in 40 years!\\n\\n\\n\\nWe help you find the best rate for your situation by\\n\\nmatching your needs with hundreds of lenders!\\n\\n\\n\\nHome Improvement, Refinance, Second Mortgage,\\n\\nHome Equity Loans, and More! Even with less than\\n\\nperfect credit!\\n\\n\\n\\nThis service is 100% FREE to home owners and new\\n\\nhome buyers without any obligation. \\n\\n\\n\\nJust fill out a quick, simple form and jump-start\\n\\nyour future plans today!\\n\\n\\n\\n\\n\\nVisit http://61.145.116.186/user0201/index.asp?Afft=QM10\\n\\n\\n\\n\\n\\n\\n\\n\\n\\n\\n\\n\\n\\nTo unsubscribe, please visit:\\n\\n\\n\\nhttp://61.145.116.186/light/watch.asp\\n\\n\\n\\n\\n  \n",
              "1  ATTENTION: This is a MUST for ALL Computer Users!!!\\n\\n\\n\\n*NEW-Special Package Deal!*\\n\\n\\n\\nNorton SystemWorks 2002 Software Suite -Professional Edition-\\n\\n\\n\\nIncludes Six - Yes 6! - Feature-Packed Utilities\\n\\nALL For 1 Special LOW Price!\\n\\n\\n\\nThis Software Will:\\n\\n- Protect your computer from unwanted and hazardous viruses\\n\\n- Help secure your private & valuable information\\n\\n- Allow you to transfer files and send e-mails safely\\n\\n- Backup your ALL your data quick and easily\\n\\n- Improve your PC's performance w/superior integral diagnostics!\\n\\n\\n\\n6 Feature-Packed Utilities...1 Great Price!\\n\\nA $300+ Combined Retail Value!\\n\\n\\n\\nYOURS for Only $29.99!  \\n\\n\\n\\nDon't fall prey to destructive viruses or hackers!\\n\\nProtect  your computer and your valuable information!\\n\\n\\n\\n\\n\\nSo don't delay...get your copy TODAY!\\n\\n\\n\\n\\n\\nhttp://euro.specialdiscounts4u.com/\\n\\n++++++++++++++++++++++++++++++++++++++++++++++++++++++++++++++++++++++++++++\\n\\nThis email has been screened and filtered by our in house \"\"OPT-OUT\"\" system in \\n\\ncompliance with state laws. If you wish to \"OPT-OUT\" from this mailing as well \\n\\nas the lists of thousands  of other email providers please visit  \\n\\n\\n\\nhttp://dvd.specialdiscounts4u.com/optoutd.html\\n\\n++++++++++++++++++++++++++++++++++++++++++++++++++++++++++++++++++++++++++++\\n\\n\\n\\n\\n  "
            ]
          },
          "execution_count": 148,
          "metadata": {},
          "output_type": "execute_result"
        }
      ],
      "source": [
        "# clean text function (removeHTML)\n",
        "def removehtml(text):\n",
        "\n",
        "    soup = BeautifulSoup(text)\n",
        "\n",
        "    return soup.get_text()\n",
        "\n",
        "\n",
        "# cleaning data\n",
        "df['MESSAGE_CLEAN'] = df['MESSAGE'].apply(removehtml)\n",
        "\n",
        "df.head(2)"
      ]
    },
    {
      "cell_type": "code",
      "execution_count": 149,
      "id": "338009fa",
      "metadata": {
        "id": "338009fa"
      },
      "outputs": [
        {
          "data": {
            "text/html": [
              "<div>\n",
              "<style scoped>\n",
              "    .dataframe tbody tr th:only-of-type {\n",
              "        vertical-align: middle;\n",
              "    }\n",
              "\n",
              "    .dataframe tbody tr th {\n",
              "        vertical-align: top;\n",
              "    }\n",
              "\n",
              "    .dataframe thead th {\n",
              "        text-align: right;\n",
              "    }\n",
              "</style>\n",
              "<table border=\"1\" class=\"dataframe\">\n",
              "  <thead>\n",
              "    <tr style=\"text-align: right;\">\n",
              "      <th></th>\n",
              "      <th>CATEGORY</th>\n",
              "      <th>MESSAGE</th>\n",
              "      <th>MESSAGE_CLEAN</th>\n",
              "    </tr>\n",
              "  </thead>\n",
              "  <tbody>\n",
              "    <tr>\n",
              "      <th>0</th>\n",
              "      <td>1</td>\n",
              "      <td>Dear Homeowner,\\n\\n \\n\\nInterest Rates are at their lowest point in 40 years!\\n\\n\\n\\nWe help you find the best rate for your situation by\\n\\nmatching your needs with hundreds of lenders!\\n\\n\\n\\nHome Improvement, Refinance, Second Mortgage,\\n\\nHome Equity Loans, and More! Even with less than\\n\\nperfect credit!\\n\\n\\n\\nThis service is 100% FREE to home owners and new\\n\\nhome buyers without any obligation. \\n\\n\\n\\nJust fill out a quick, simple form and jump-start\\n\\nyour future plans today!\\n\\n\\n\\n\\n\\nVisit http://61.145.116.186/user0201/index.asp?Afft=QM10\\n\\n\\n\\n\\n\\n\\n\\n\\n\\n\\n\\n\\n\\nTo unsubscribe, please visit:\\n\\n\\n\\nhttp://61.145.116.186/light/watch.asp\\n\\n\\n\\n\\n</td>\n",
              "      <td>dear homeowner \\n\\n \\n\\n interest rate low point 40 year \\n\\n\\n\\n help find good rate situation \\n\\n match need hundred lender \\n\\n\\n\\n home improvement refinance second mortgage \\n\\n home equity loans \\n\\n perfect credit \\n\\n\\n\\n service 100 free home owner new \\n\\n home buyer obligation \\n\\n\\n\\n fill quick simple form jump start \\n\\n future plan today \\n\\n\\n\\n\\n\\n visit \\n\\n\\n\\n\\n\\n\\n\\n\\n\\n\\n\\n\\n\\n unsubscribe visit \\n\\n\\n\\n \\n\\n\\n\\n\\n</td>\n",
              "    </tr>\n",
              "    <tr>\n",
              "      <th>1</th>\n",
              "      <td>1</td>\n",
              "      <td>ATTENTION: This is a MUST for ALL Computer Users!!!\\n\\n\\n\\n*NEW-Special Package Deal!*\\n\\n\\n\\nNorton SystemWorks 2002 Software Suite -Professional Edition-\\n\\n\\n\\nIncludes Six - Yes 6! - Feature-Packed Utilities\\n\\nALL For 1 Special LOW Price!\\n\\n\\n\\nThis Software Will:\\n\\n- Protect your computer from unwanted and hazardous viruses\\n\\n- Help secure your private &amp; valuable information\\n\\n- Allow you to transfer files and send e-mails safely\\n\\n- Backup your ALL your data quick and easily\\n\\n- Improve your PC's performance w/superior integral diagnostics!\\n\\n\\n\\n6 Feature-Packed Utilities...1 Great Price!\\n\\nA $300+ Combined Retail Value!\\n\\n\\n\\nYOURS for Only $29.99!  &lt;Includes FREE Shipping!&gt;\\n\\n\\n\\nDon't fall prey to destructive viruses or hackers!\\n\\nProtect  your computer and your valuable information!\\n\\n\\n\\n\\n\\nSo don't delay...get your copy TODAY!\\n\\n\\n\\n\\n\\nhttp://euro.specialdiscounts4u.com/\\n\\n++++++++++++++++++++++++++++++++++++++++++++++++++++++++++++++++++++++++++++\\n\\nThis email has been screened and filtered by our in house \"\"OPT-OUT\"\" system in \\n\\ncompliance with state laws. If you wish to \"OPT-OUT\" from this mailing as well \\n\\nas the lists of thousands  of other email providers please visit  \\n\\n\\n\\nhttp://dvd.specialdiscounts4u.com/optoutd.html\\n\\n++++++++++++++++++++++++++++++++++++++++++++++++++++++++++++++++++++++++++++\\n\\n\\n\\n\\n</td>\n",
              "      <td>attention computer users \\n\\n\\n\\n new special package deal \\n\\n\\n\\n norton systemworks 2002 software suite -professional edition- \\n\\n\\n\\n include yes 6 feature pack utilities \\n\\n 1 special low price \\n\\n\\n\\n software \\n\\n protect computer unwanted hazardous virus \\n\\n help secure private valuable information \\n\\n allow transfer file send e mail safely \\n\\n backup datum quick easily \\n\\n improve pc performance w superior integral diagnostic \\n\\n\\n\\n 6 feature pack utilities 1 great price \\n\\n $ 300 + combined retail value \\n\\n\\n\\n $ 29.99   &lt; include free shipping &gt; \\n\\n\\n\\n fall prey destructive virus hacker \\n\\n protect   computer valuable information \\n\\n\\n\\n\\n\\n delay copy today \\n\\n\\n\\n\\n\\n \\n\\n + + + + + + + + + + + + + + + + + + + + + + + + + + + + + + + + + + + + + + + + + + + + + + + + + + + + + + + + + + + + + + + + + + + + + + + + + + + + \\n\\n email screen filter house opt system \\n\\n compliance state law wish opt mailing \\n\\n list thousand   email provider visit  \\n\\n\\n\\n \\n\\n + + + + + + + + + + + + + + + + + + + + + + + + + + + + + + + + + + + + + + + + + + + + + + + + + + + + + + + + + + + + + + + + + + + + + + + + + + + + \\n\\n\\n\\n\\n</td>\n",
              "    </tr>\n",
              "  </tbody>\n",
              "</table>\n",
              "</div>"
            ],
            "text/plain": [
              "   CATEGORY  \\\n",
              "0         1   \n",
              "1         1   \n",
              "\n",
              "                                                                                                                                                                                                                                                                                                                                                                                                                                                                                                                                                                                                                                                                                                                                                                                                                                                                                                                                                                                                                                                                                                                                                                                                                                                                                                                                                                                                                         MESSAGE  \\\n",
              "0                                                                                                                                                                                                                                                                                                                                                                                                                                                                                                                                                                                                                                                                                                                                Dear Homeowner,\\n\\n \\n\\nInterest Rates are at their lowest point in 40 years!\\n\\n\\n\\nWe help you find the best rate for your situation by\\n\\nmatching your needs with hundreds of lenders!\\n\\n\\n\\nHome Improvement, Refinance, Second Mortgage,\\n\\nHome Equity Loans, and More! Even with less than\\n\\nperfect credit!\\n\\n\\n\\nThis service is 100% FREE to home owners and new\\n\\nhome buyers without any obligation. \\n\\n\\n\\nJust fill out a quick, simple form and jump-start\\n\\nyour future plans today!\\n\\n\\n\\n\\n\\nVisit http://61.145.116.186/user0201/index.asp?Afft=QM10\\n\\n\\n\\n\\n\\n\\n\\n\\n\\n\\n\\n\\n\\nTo unsubscribe, please visit:\\n\\n\\n\\nhttp://61.145.116.186/light/watch.asp\\n\\n\\n\\n\\n   \n",
              "1  ATTENTION: This is a MUST for ALL Computer Users!!!\\n\\n\\n\\n*NEW-Special Package Deal!*\\n\\n\\n\\nNorton SystemWorks 2002 Software Suite -Professional Edition-\\n\\n\\n\\nIncludes Six - Yes 6! - Feature-Packed Utilities\\n\\nALL For 1 Special LOW Price!\\n\\n\\n\\nThis Software Will:\\n\\n- Protect your computer from unwanted and hazardous viruses\\n\\n- Help secure your private & valuable information\\n\\n- Allow you to transfer files and send e-mails safely\\n\\n- Backup your ALL your data quick and easily\\n\\n- Improve your PC's performance w/superior integral diagnostics!\\n\\n\\n\\n6 Feature-Packed Utilities...1 Great Price!\\n\\nA $300+ Combined Retail Value!\\n\\n\\n\\nYOURS for Only $29.99!  <Includes FREE Shipping!>\\n\\n\\n\\nDon't fall prey to destructive viruses or hackers!\\n\\nProtect  your computer and your valuable information!\\n\\n\\n\\n\\n\\nSo don't delay...get your copy TODAY!\\n\\n\\n\\n\\n\\nhttp://euro.specialdiscounts4u.com/\\n\\n++++++++++++++++++++++++++++++++++++++++++++++++++++++++++++++++++++++++++++\\n\\nThis email has been screened and filtered by our in house \"\"OPT-OUT\"\" system in \\n\\ncompliance with state laws. If you wish to \"OPT-OUT\" from this mailing as well \\n\\nas the lists of thousands  of other email providers please visit  \\n\\n\\n\\nhttp://dvd.specialdiscounts4u.com/optoutd.html\\n\\n++++++++++++++++++++++++++++++++++++++++++++++++++++++++++++++++++++++++++++\\n\\n\\n\\n\\n   \n",
              "\n",
              "                                                                                                                                                                                                                                                                                                                                                                                                                                                                                                                                                                                                                                                                                                                                                                                                                                                                                                                                                                                                                                                                                                                                                                                                     MESSAGE_CLEAN  \n",
              "0                                                                                                                                                                                                                                                                                                                                                                                                                                                                                                                                                                                                                                                                                                                                                        dear homeowner \\n\\n \\n\\n interest rate low point 40 year \\n\\n\\n\\n help find good rate situation \\n\\n match need hundred lender \\n\\n\\n\\n home improvement refinance second mortgage \\n\\n home equity loans \\n\\n perfect credit \\n\\n\\n\\n service 100 free home owner new \\n\\n home buyer obligation \\n\\n\\n\\n fill quick simple form jump start \\n\\n future plan today \\n\\n\\n\\n\\n\\n visit \\n\\n\\n\\n\\n\\n\\n\\n\\n\\n\\n\\n\\n\\n unsubscribe visit \\n\\n\\n\\n \\n\\n\\n\\n\\n  \n",
              "1  attention computer users \\n\\n\\n\\n new special package deal \\n\\n\\n\\n norton systemworks 2002 software suite -professional edition- \\n\\n\\n\\n include yes 6 feature pack utilities \\n\\n 1 special low price \\n\\n\\n\\n software \\n\\n protect computer unwanted hazardous virus \\n\\n help secure private valuable information \\n\\n allow transfer file send e mail safely \\n\\n backup datum quick easily \\n\\n improve pc performance w superior integral diagnostic \\n\\n\\n\\n 6 feature pack utilities 1 great price \\n\\n $ 300 + combined retail value \\n\\n\\n\\n $ 29.99   < include free shipping > \\n\\n\\n\\n fall prey destructive virus hacker \\n\\n protect   computer valuable information \\n\\n\\n\\n\\n\\n delay copy today \\n\\n\\n\\n\\n\\n \\n\\n + + + + + + + + + + + + + + + + + + + + + + + + + + + + + + + + + + + + + + + + + + + + + + + + + + + + + + + + + + + + + + + + + + + + + + + + + + + + \\n\\n email screen filter house opt system \\n\\n compliance state law wish opt mailing \\n\\n list thousand   email provider visit  \\n\\n\\n\\n \\n\\n + + + + + + + + + + + + + + + + + + + + + + + + + + + + + + + + + + + + + + + + + + + + + + + + + + + + + + + + + + + + + + + + + + + + + + + + + + + + \\n\\n\\n\\n\\n  "
            ]
          },
          "execution_count": 149,
          "metadata": {},
          "output_type": "execute_result"
        }
      ],
      "source": [
        "# load spacy model\n",
        "nlp = spacy.load(\"en_core_web_lg\")\n",
        "\n",
        "# clean text function (stopwords, punctuation and URLs)\n",
        "def clean_text(text):\n",
        "    clean_text = []\n",
        "    for token in nlp(text):\n",
        "        if (\n",
        "            not token.is_stop\n",
        "            and not token.is_punct\n",
        "            and not token.like_url\n",
        "            ):\n",
        "          clean_text.append(token.lemma_.lower())\n",
        "\n",
        "    return \" \".join(clean_text)\n",
        "\n",
        "\n",
        "# cleaning data\n",
        "df['MESSAGE_CLEAN'] = df['MESSAGE'].apply(clean_text)\n",
        "\n",
        "df.head(2)"
      ]
    },
    {
      "cell_type": "code",
      "execution_count": 152,
      "id": "2f5aa6bc",
      "metadata": {
        "id": "2f5aa6bc"
      },
      "outputs": [
        {
          "data": {
            "text/html": [
              "<div>\n",
              "<style scoped>\n",
              "    .dataframe tbody tr th:only-of-type {\n",
              "        vertical-align: middle;\n",
              "    }\n",
              "\n",
              "    .dataframe tbody tr th {\n",
              "        vertical-align: top;\n",
              "    }\n",
              "\n",
              "    .dataframe thead th {\n",
              "        text-align: right;\n",
              "    }\n",
              "</style>\n",
              "<table border=\"1\" class=\"dataframe\">\n",
              "  <thead>\n",
              "    <tr style=\"text-align: right;\">\n",
              "      <th></th>\n",
              "      <th>CATEGORY</th>\n",
              "      <th>MESSAGE</th>\n",
              "      <th>MESSAGE_CLEAN</th>\n",
              "    </tr>\n",
              "  </thead>\n",
              "  <tbody>\n",
              "    <tr>\n",
              "      <th>0</th>\n",
              "      <td>1</td>\n",
              "      <td>Dear Homeowner,\\n\\n \\n\\nInterest Rates are at their lowest point in 40 years!\\n\\n\\n\\nWe help you find the best rate for your situation by\\n\\nmatching your needs with hundreds of lenders!\\n\\n\\n\\nHome Improvement, Refinance, Second Mortgage,\\n\\nHome Equity Loans, and More! Even with less than\\n\\nperfect credit!\\n\\n\\n\\nThis service is 100% FREE to home owners and new\\n\\nhome buyers without any obligation. \\n\\n\\n\\nJust fill out a quick, simple form and jump-start\\n\\nyour future plans today!\\n\\n\\n\\n\\n\\nVisit http://61.145.116.186/user0201/index.asp?Afft=QM10\\n\\n\\n\\n\\n\\n\\n\\n\\n\\n\\n\\n\\n\\nTo unsubscribe, please visit:\\n\\n\\n\\nhttp://61.145.116.186/light/watch.asp\\n\\n\\n\\n\\n</td>\n",
              "      <td>dear homeowner interest rate low point 40 year help find good rate situation match need hundred lender home improvement refinance second mortgage home equity loans perfect credit service 100 free home owner new home buyer obligation fill quick simple form jump start future plan today visit unsubscribe visit</td>\n",
              "    </tr>\n",
              "    <tr>\n",
              "      <th>1</th>\n",
              "      <td>1</td>\n",
              "      <td>ATTENTION: This is a MUST for ALL Computer Users!!!\\n\\n\\n\\n*NEW-Special Package Deal!*\\n\\n\\n\\nNorton SystemWorks 2002 Software Suite -Professional Edition-\\n\\n\\n\\nIncludes Six - Yes 6! - Feature-Packed Utilities\\n\\nALL For 1 Special LOW Price!\\n\\n\\n\\nThis Software Will:\\n\\n- Protect your computer from unwanted and hazardous viruses\\n\\n- Help secure your private &amp; valuable information\\n\\n- Allow you to transfer files and send e-mails safely\\n\\n- Backup your ALL your data quick and easily\\n\\n- Improve your PC's performance w/superior integral diagnostics!\\n\\n\\n\\n6 Feature-Packed Utilities...1 Great Price!\\n\\nA $300+ Combined Retail Value!\\n\\n\\n\\nYOURS for Only $29.99!  &lt;Includes FREE Shipping!&gt;\\n\\n\\n\\nDon't fall prey to destructive viruses or hackers!\\n\\nProtect  your computer and your valuable information!\\n\\n\\n\\n\\n\\nSo don't delay...get your copy TODAY!\\n\\n\\n\\n\\n\\nhttp://euro.specialdiscounts4u.com/\\n\\n++++++++++++++++++++++++++++++++++++++++++++++++++++++++++++++++++++++++++++\\n\\nThis email has been screened and filtered by our in house \"\"OPT-OUT\"\" system in \\n\\ncompliance with state laws. If you wish to \"OPT-OUT\" from this mailing as well \\n\\nas the lists of thousands  of other email providers please visit  \\n\\n\\n\\nhttp://dvd.specialdiscounts4u.com/optoutd.html\\n\\n++++++++++++++++++++++++++++++++++++++++++++++++++++++++++++++++++++++++++++\\n\\n\\n\\n\\n</td>\n",
              "      <td>attention computer users new special package deal norton systemworks 2002 software suite professional edition include yes 6 feature pack utilities 1 special low price software protect computer unwanted hazardous virus help secure private valuable information allow transfer file send e mail safely backup datum quick easily improve pc performance w superior integral diagnostic 6 feature pack utilities 1 great price 300 combined retail value 29 99 include free shipping fall prey destructive virus hacker protect computer valuable information delay copy today email screen filter house opt system compliance state law wish opt mailing list thousand email provider visit</td>\n",
              "    </tr>\n",
              "  </tbody>\n",
              "</table>\n",
              "</div>"
            ],
            "text/plain": [
              "   CATEGORY  \\\n",
              "0         1   \n",
              "1         1   \n",
              "\n",
              "                                                                                                                                                                                                                                                                                                                                                                                                                                                                                                                                                                                                                                                                                                                                                                                                                                                                                                                                                                                                                                                                                                                                                                                                                                                                                                                                                                                                                         MESSAGE  \\\n",
              "0                                                                                                                                                                                                                                                                                                                                                                                                                                                                                                                                                                                                                                                                                                                                Dear Homeowner,\\n\\n \\n\\nInterest Rates are at their lowest point in 40 years!\\n\\n\\n\\nWe help you find the best rate for your situation by\\n\\nmatching your needs with hundreds of lenders!\\n\\n\\n\\nHome Improvement, Refinance, Second Mortgage,\\n\\nHome Equity Loans, and More! Even with less than\\n\\nperfect credit!\\n\\n\\n\\nThis service is 100% FREE to home owners and new\\n\\nhome buyers without any obligation. \\n\\n\\n\\nJust fill out a quick, simple form and jump-start\\n\\nyour future plans today!\\n\\n\\n\\n\\n\\nVisit http://61.145.116.186/user0201/index.asp?Afft=QM10\\n\\n\\n\\n\\n\\n\\n\\n\\n\\n\\n\\n\\n\\nTo unsubscribe, please visit:\\n\\n\\n\\nhttp://61.145.116.186/light/watch.asp\\n\\n\\n\\n\\n   \n",
              "1  ATTENTION: This is a MUST for ALL Computer Users!!!\\n\\n\\n\\n*NEW-Special Package Deal!*\\n\\n\\n\\nNorton SystemWorks 2002 Software Suite -Professional Edition-\\n\\n\\n\\nIncludes Six - Yes 6! - Feature-Packed Utilities\\n\\nALL For 1 Special LOW Price!\\n\\n\\n\\nThis Software Will:\\n\\n- Protect your computer from unwanted and hazardous viruses\\n\\n- Help secure your private & valuable information\\n\\n- Allow you to transfer files and send e-mails safely\\n\\n- Backup your ALL your data quick and easily\\n\\n- Improve your PC's performance w/superior integral diagnostics!\\n\\n\\n\\n6 Feature-Packed Utilities...1 Great Price!\\n\\nA $300+ Combined Retail Value!\\n\\n\\n\\nYOURS for Only $29.99!  <Includes FREE Shipping!>\\n\\n\\n\\nDon't fall prey to destructive viruses or hackers!\\n\\nProtect  your computer and your valuable information!\\n\\n\\n\\n\\n\\nSo don't delay...get your copy TODAY!\\n\\n\\n\\n\\n\\nhttp://euro.specialdiscounts4u.com/\\n\\n++++++++++++++++++++++++++++++++++++++++++++++++++++++++++++++++++++++++++++\\n\\nThis email has been screened and filtered by our in house \"\"OPT-OUT\"\" system in \\n\\ncompliance with state laws. If you wish to \"OPT-OUT\" from this mailing as well \\n\\nas the lists of thousands  of other email providers please visit  \\n\\n\\n\\nhttp://dvd.specialdiscounts4u.com/optoutd.html\\n\\n++++++++++++++++++++++++++++++++++++++++++++++++++++++++++++++++++++++++++++\\n\\n\\n\\n\\n   \n",
              "\n",
              "                                                                                                                                                                                                                                                                                                                                                                                                                                                                                                                                                                                                                                                                                     MESSAGE_CLEAN  \n",
              "0                                                                                                                                                                                                                                                                                                                                                                            dear homeowner interest rate low point 40 year help find good rate situation match need hundred lender home improvement refinance second mortgage home equity loans perfect credit service 100 free home owner new home buyer obligation fill quick simple form jump start future plan today visit unsubscribe visit   \n",
              "1  attention computer users new special package deal norton systemworks 2002 software suite professional edition include yes 6 feature pack utilities 1 special low price software protect computer unwanted hazardous virus help secure private valuable information allow transfer file send e mail safely backup datum quick easily improve pc performance w superior integral diagnostic 6 feature pack utilities 1 great price 300 combined retail value 29 99 include free shipping fall prey destructive virus hacker protect computer valuable information delay copy today email screen filter house opt system compliance state law wish opt mailing list thousand email provider visit   "
            ]
          },
          "execution_count": 152,
          "metadata": {},
          "output_type": "execute_result"
        }
      ],
      "source": [
        "# clean text function (1 len character)\n",
        "def remove_character(text):\n",
        "\n",
        "    return re.sub(r'[^A-Za-z0-9]+', r' ', text)\n",
        "\n",
        "\n",
        "# cleaning data\n",
        "df[\"MESSAGE_CLEAN\"] = df[\"MESSAGE_CLEAN\"].apply(remove_character)\n",
        "\n",
        "df.head(2)"
      ]
    },
    {
      "cell_type": "markdown",
      "id": "53d437ed",
      "metadata": {},
      "source": [
        "## 0: not spam"
      ]
    },
    {
      "cell_type": "markdown",
      "id": "f22abaeb",
      "metadata": {},
      "source": [
        "## 1: spam"
      ]
    },
    {
      "cell_type": "code",
      "execution_count": 29,
      "id": "2b9c6bb1",
      "metadata": {
        "colab": {
          "base_uri": "https://localhost:8080/",
          "height": 442
        },
        "id": "2b9c6bb1",
        "outputId": "91d49be6-1204-456f-bc54-a3f839648d22"
      },
      "outputs": [
        {
          "data": {
            "image/png": "[encoded data removed]",
            "text/plain": [
              "<Figure size 640x480 with 1 Axes>"
            ]
          },
          "metadata": {},
          "output_type": "display_data"
        },
        {
          "name": "stdout",
          "output_type": "stream",
          "text": [
            "0    67.439848\n",
            "1    32.560152\n",
            "Name: CATEGORY, dtype: float64\n"
          ]
        }
      ],
      "source": [
        "# check target\n",
        "plt.figure()\n",
        "sns.countplot(x='CATEGORY', data=df, dodge=False)\n",
        "plt.legend('')\n",
        "plt.show()\n",
        "\n",
        "print(df['CATEGORY'].value_counts(normalize=True)*100)"
      ]
    },
    {
      "cell_type": "markdown",
      "id": "7091a3ae",
      "metadata": {
        "id": "7091a3ae"
      },
      "source": [
        "### RandomForestClassifier"
      ]
    },
    {
      "cell_type": "code",
      "execution_count": 153,
      "id": "2aa030cb",
      "metadata": {},
      "outputs": [],
      "source": [
        "# X and y\n",
        "X = df['MESSAGE_CLEAN'].copy()\n",
        "y = df['CATEGORY'].copy()\n",
        "\n",
        "# train test split\n",
        "X_train, X_test, y_train, y_test = train_test_split(X, y, test_size=0.2, stratify=y, random_state=42)\n",
        "\n",
        "# KFolds definition\n",
        "skf = StratifiedKFold(n_splits=5, shuffle=True, random_state=42)\n",
        "\n",
        "# tfidf vectorization\n",
        "vect = TfidfVectorizer()\n",
        "X_train_prep = vect.fit_transform(X_train)\n",
        "X_test_prep = vect.transform(X_test)"
      ]
    },
    {
      "cell_type": "code",
      "execution_count": 176,
      "id": "4ebf23b8",
      "metadata": {},
      "outputs": [
        {
          "name": "stdout",
          "output_type": "stream",
          "text": [
            "best_params: {'n_estimators': 146, 'min_samples_split': 82, 'min_samples_leaf': 3, 'max_depth': 29, 'criterion': 'gini'}\n",
            "train_score: 0.9960984702175504\n",
            "best_score: 0.9923703153951576\n"
          ]
        }
      ],
      "source": [
        "# RandomizedSearchCV RFC with balanced class_weight\n",
        "\n",
        "model = RandomForestClassifier(n_jobs=-1, class_weight='balanced',  random_state=42)\n",
        "\n",
        "param_grid = {\n",
        "            'n_estimators': [x for x in range(100, 150, 2)],\n",
        "            'criterion': ['entropy', 'gini'],\n",
        "            'max_depth': [x for x in range(5, 30, 2)],\n",
        "            'min_samples_split': [x for x in range(70, 90, 2)],\n",
        "            'min_samples_leaf': [x for x in range(1, 10, 1)],\n",
        "            }\n",
        "\n",
        "grid_rfc_cw = RandomizedSearchCV(estimator=model,\n",
        "                                param_distributions=param_grid,\n",
        "                                scoring='roc_auc',\n",
        "                                n_jobs=-1,\n",
        "                                cv=skf,\n",
        "                                return_train_score=True,\n",
        "                                )\n",
        "\n",
        "grid_rfc_cw.fit(X_train_prep, y_train)\n",
        "\n",
        "df_imbrfc_cw = pd.DataFrame(grid_rfc_cw.cv_results_)\n",
        "\n",
        "# prints\n",
        "print(f'best_params: {grid_rfc_cw.best_params_}')\n",
        "train_score = float(df_imbrfc_cw.loc[df_imbrfc_cw['rank_test_score'] == 1, 'mean_train_score'])\n",
        "print(f'train_score: {train_score}')\n",
        "print(f'best_score: {grid_rfc_cw.best_score_}')"
      ]
    },
    {
      "cell_type": "code",
      "execution_count": 177,
      "id": "75149f8a",
      "metadata": {},
      "outputs": [
        {
          "name": "stdout",
          "output_type": "stream",
          "text": [
            "              precision    recall  f1-score   support\n",
            "\n",
            "           0       0.96      0.99      0.98       780\n",
            "           1       0.97      0.92      0.95       376\n",
            "\n",
            "    accuracy                           0.97      1156\n",
            "   macro avg       0.97      0.96      0.96      1156\n",
            "weighted avg       0.97      0.97      0.97      1156\n",
            "\n"
          ]
        }
      ],
      "source": [
        "# classification report test\n",
        "y_test_pred = grid_rfc_cw.best_estimator_.predict(X_test_prep)\n",
        "cr = classification_report(y_test, y_test_pred)\n",
        "print(cr)"
      ]
    },
    {
      "cell_type": "code",
      "execution_count": 178,
      "id": "93960e10",
      "metadata": {},
      "outputs": [
        {
          "data": {
            "image/png": "[encoded data removed]",
            "text/plain": [
              "<Figure size 640x480 with 2 Axes>"
            ]
          },
          "metadata": {},
          "output_type": "display_data"
        }
      ],
      "source": [
        "# confusion matrix\n",
        "cm = confusion_matrix(y_test, y_test_pred)\n",
        "disp = ConfusionMatrixDisplay(cm)\n",
        "disp.plot()\n",
        "plt.title('CM RFC')\n",
        "plt.show()"
      ]
    },
    {
      "cell_type": "code",
      "execution_count": 126,
      "id": "6d5b3c43",
      "metadata": {},
      "outputs": [
        {
          "name": "stdout",
          "output_type": "stream",
          "text": [
            "best_params: {'activation': 'tanh', 'alpha': 0.0001, 'hidden_layer_sizes': (100, 50, 50), 'solver': 'adam'}\n",
            "train_score: 1.0\n",
            "test_score: 0.9852663406622121\n"
          ]
        }
      ],
      "source": [
        "# GridSearchCV MLP\n",
        "\n",
        "mlp = MLPClassifier(n_iter_no_change=5, random_state=42)\n",
        "\n",
        "param_grid = {\n",
        "            'alpha': [0.0001, 0.0005, 0.01],\n",
        "            'hidden_layer_sizes': [(50, 25, 25), (100, 50, 50)],\n",
        "            'activation': ['relu', 'tanh'],\n",
        "            'solver': ['adam', 'lbfgs']\n",
        "            }\n",
        "\n",
        "grid_mlp = GridSearchCV(estimator=mlp,\n",
        "                        param_grid=param_grid,\n",
        "                        scoring='balanced_accuracy',\n",
        "                        n_jobs=-1,\n",
        "                        cv=skf,\n",
        "                        return_train_score=True,\n",
        "                        )\n",
        "\n",
        "grid_mlp.fit(X_train_prep, y_train)\n",
        "\n",
        "df_mlp = pd.DataFrame(grid_mlp.cv_results_)\n",
        "\n",
        "# prints\n",
        "print(f'best_params: {grid_mlp.best_params_}')\n",
        "train_score = float(df_mlp.loc[df_mlp['rank_test_score'] == 1, 'mean_train_score'])\n",
        "print(f'train_score: {train_score}')\n",
        "print(f'test_score: {grid_mlp.best_score_}')"
      ]
    },
    {
      "cell_type": "code",
      "execution_count": 127,
      "id": "dff60489",
      "metadata": {},
      "outputs": [
        {
          "name": "stdout",
          "output_type": "stream",
          "text": [
            "              precision    recall  f1-score   support\n",
            "\n",
            "           0       0.96      0.99      0.97       780\n",
            "           1       0.97      0.92      0.94       376\n",
            "\n",
            "    accuracy                           0.96      1156\n",
            "   macro avg       0.97      0.95      0.96      1156\n",
            "weighted avg       0.96      0.96      0.96      1156\n",
            "\n"
          ]
        }
      ],
      "source": [
        "# classification report test\n",
        "y_test_pred_mlp = grid_mlp.best_estimator_.predict(X_test_prep)\n",
        "cr_mlp = classification_report(y_test, y_test_pred_mlp)\n",
        "print(cr)"
      ]
    },
    {
      "cell_type": "code",
      "execution_count": 128,
      "id": "04b6bd89",
      "metadata": {},
      "outputs": [
        {
          "data": {
            "image/png": "[encoded data removed]",
            "text/plain": [
              "<Figure size 640x480 with 2 Axes>"
            ]
          },
          "metadata": {},
          "output_type": "display_data"
        }
      ],
      "source": [
        "# confusion matrix\n",
        "cm_mlp = confusion_matrix(y_test, y_test_pred_mlp)\n",
        "disp_mlp = ConfusionMatrixDisplay(cm_mlp)\n",
        "disp.plot()\n",
        "plt.title('CM MLP')\n",
        "plt.show()"
      ]
    }
  ],
  "metadata": {
    "colab": {
      "collapsed_sections": [
        "dadcaf17",
        "7091a3ae",
        "e9d38ded"
      ],
      "provenance": []
    },
    "kernelspec": {
      "display_name": "Python 3.10.8 64-bit",
      "language": "python",
      "name": "python3"
    },
    "language_info": {
      "codemirror_mode": {
        "name": "ipython",
        "version": 3
      },
      "file_extension": ".py",
      "mimetype": "text/x-python",
      "name": "python",
      "nbconvert_exporter": "python",
      "pygments_lexer": "ipython3",
      "version": "3.10.9"
    },
    "vscode": {
      "interpreter": {
        "hash": "93eea8ebdc219bef19ebe1e35db5d064b22d61d19b49885dff44c1b539400291"
      }
    }
  },
  "nbformat": 4,
  "nbformat_minor": 5
}
